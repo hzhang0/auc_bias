{
 "cells": [
  {
   "cell_type": "code",
   "execution_count": 1,
   "id": "d5214d27",
   "metadata": {},
   "outputs": [],
   "source": [
    "import numpy as np\n",
    "import pandas as pd\n",
    "from pathlib import Path\n",
    "import pickle\n",
    "import json\n",
    "from tqdm import tqdm\n",
    "import copy\n",
    "import matplotlib.pyplot as plt\n",
    "import scipy.stats\n",
    "import warnings\n",
    "from matplotlib.patches import Patch\n",
    "from plot_utils import *\n",
    "\n",
    "warnings.simplefilter(action='ignore', category=pd.errors.PerformanceWarning)"
   ]
  },
  {
   "cell_type": "code",
   "execution_count": 2,
   "id": "8b40d3dd",
   "metadata": {},
   "outputs": [],
   "source": [
    "root_dir = Path(f'/path/to/results/dir/vary_group_weight_with_seeds/')\n",
    "force_reload = False"
   ]
  },
  {
   "cell_type": "code",
   "execution_count": 3,
   "id": "a810b0d4",
   "metadata": {},
   "outputs": [],
   "source": [
    "if force_reload or not Path('vary_group_weight_with_seeds_res.pkl').is_file():\n",
    "    import os\n",
    "    import sys\n",
    "    sys.path.append('../')\n",
    "    from auc_biases.hparams_registry import random_hparams, default_hparams, seed_hash\n",
    "    \n",
    "    results = []\n",
    "    for i in tqdm(root_dir.glob('**/done')):\n",
    "        args = json.load((i.parent/'args.json').open('r'))\n",
    "        final_res = pickle.load((i.parent/'final_results.pkl').open('rb')) \n",
    "        # add back hparams\n",
    "        if args['hparams_seed'] == 0:\n",
    "            args['hparams'] = default_hparams(args['algorithm'], args['dataset'])\n",
    "        else:\n",
    "            args['hparams'] = random_hparams(args['algorithm'], args['dataset'], seed_hash(args['hparams_seed']))\n",
    "\n",
    "        for attr in final_res:\n",
    "            args_attr = copy.deepcopy(args)\n",
    "            args_attr['attr'] = attr\n",
    "            row = flatten_individual_res(final_res[attr])\n",
    "            results.append({**args_attr, **row})   \n",
    "    df_all = pd.DataFrame(results)\n",
    "    df_all.to_pickle('vary_group_weight_with_seeds_res.pkl')\n",
    "\n",
    "df_all = pd.read_pickle('vary_group_weight_with_seeds_res.pkl')"
   ]
  },
  {
   "cell_type": "code",
   "execution_count": 4,
   "id": "8ca2c1dd",
   "metadata": {},
   "outputs": [],
   "source": [
    "df_all.loc[(df_all.attr.str.lower().isin(['gender', 'male'])), 'attr'] = 'sex'"
   ]
  },
  {
   "cell_type": "markdown",
   "id": "9593ed3f",
   "metadata": {},
   "source": [
    "## Across Seeds"
   ]
  },
  {
   "cell_type": "code",
   "execution_count": null,
   "id": "ca5ab3d5",
   "metadata": {},
   "outputs": [],
   "source": [
    "df = df_all.copy()"
   ]
  },
  {
   "cell_type": "code",
   "execution_count": 8,
   "id": "a5d7cf5e",
   "metadata": {},
   "outputs": [],
   "source": [
    "assert len(df.seed.unique()) > 1\n",
    "n_seeds = len(df.seed.unique())"
   ]
  },
  {
   "cell_type": "code",
   "execution_count": 9,
   "id": "cbe81890",
   "metadata": {},
   "outputs": [],
   "source": [
    "cand_metrics = ['va_overall_AUROC', 'va_overall_AUPRC']\n",
    "\n",
    "eval_metrics = ['te_overall_AUROC', 'te_overall_AUPRC', \n",
    "                'te_max_gap_AUROC', 'te_max_gap_AUPRC', \n",
    "               'te_signed_gap_AUROC', 'te_signed_gap_AUPRC']\n",
    "\n",
    "prev_gap = df.groupby(['dataset', 'attr']).agg({'te_ratio_prevalence_50': 'first'})['te_ratio_prevalence_50']"
   ]
  },
  {
   "cell_type": "code",
   "execution_count": 10,
   "id": "6d587258",
   "metadata": {},
   "outputs": [],
   "source": [
    "indices = df.groupby(['dataset', 'attr', 'seed']).size().index\n",
    "corr_df = []\n",
    "\n",
    "for idx in indices:\n",
    "    sub_df = df.set_index(['dataset', 'attr', 'seed']).loc[idx]\n",
    "    if len(sub_df) < 10:\n",
    "        continue\n",
    "    for cand_metric in cand_metrics:\n",
    "        for eval_metric in eval_metrics:\n",
    "            if pd.isnull(sub_df[eval_metric]).sum() > 0:\n",
    "                continue\n",
    "            r = scipy.stats.spearmanr(sub_df[cand_metric], sub_df[eval_metric])[0]       \n",
    "            corr_df.append({\n",
    "                'dataset': idx[0],\n",
    "                'attr': idx[1],\n",
    "                'seed': idx[2],\n",
    "                'select_metric': cand_metric,\n",
    "                'eval_metric': eval_metric,\n",
    "                'r': r,\n",
    "                'n': len(sub_df)\n",
    "            })\n",
    "corr_df = pd.DataFrame(corr_df).dropna().set_index(['dataset', 'attr', 'seed'])"
   ]
  },
  {
   "cell_type": "code",
   "execution_count": 11,
   "id": "8d030f39",
   "metadata": {},
   "outputs": [
    {
     "data": {
      "image/png": "[encoded data removed]",
      "text/plain": [
       "<Figure size 1152x360 with 1 Axes>"
      ]
     },
     "metadata": {
      "needs_background": "light"
     },
     "output_type": "display_data"
    }
   ],
   "source": [
    "## bar plot showing raw spearman rho values (two bars per dataset)\n",
    "y_var = 'te_signed_gap_AUROC'\n",
    "\n",
    "pivot_corr_df = corr_df.pivot_table(values = ['r'], index = ['dataset', 'attr', 'seed', 'select_metric'], columns = ['eval_metric'])\n",
    "pivot_corr_df.columns = [i[1] for i in pivot_corr_df.columns]\n",
    "pivot_corr_df = pivot_corr_df.groupby(['dataset', 'attr', 'select_metric']).agg({y_var: ['mean', 'std']})\n",
    "\n",
    "pivot_corr_df.columns = [i[1] for i in pivot_corr_df.columns]\n",
    "pivot_corr_df['lower'] = pivot_corr_df['mean'] - 1.96 * pivot_corr_df['std'] /np.sqrt(n_seeds) \n",
    "pivot_corr_df['upper'] = pivot_corr_df['mean'] + 1.96 * pivot_corr_df['std'] /np.sqrt(n_seeds) \n",
    "\n",
    "auroc_df = pivot_corr_df.loc[pd.IndexSlice[:, :, 'va_overall_AUROC'], :].droplevel(2)\n",
    "auprc_df = pivot_corr_df.loc[pd.IndexSlice[:, :, 'va_overall_AUPRC'], :].droplevel(2)\n",
    "\n",
    "f = make_heatmap('val', 'Spearman\\'s $\\\\rho$ (AUROC Gap)', \n",
    "                 auroc_df.rename(columns = {'mean': 'val'}), \n",
    "                 auprc_df.rename(columns = {'mean': 'val'}), \n",
    "                 prev_gap, 'Overall AUROC', 'Overall AUPRC', True,\n",
    "                 auroc_df[['lower']].rename(columns = {'lower': 'val'}), \n",
    "                 auroc_df[['upper']].rename(columns = {'upper': 'val'}), \n",
    "                 auprc_df[['lower']].rename(columns = {'lower': 'val'}), \n",
    "                 auprc_df[['upper']].rename(columns = {'upper': 'val'}),  \n",
    "                 subset_idx = None)\n",
    "f.savefig('spearman_r_AUROC_20_seeds.pdf', bbox_inches = 'tight')"
   ]
  },
  {
   "cell_type": "code",
   "execution_count": 12,
   "id": "8aff6bbc",
   "metadata": {},
   "outputs": [
    {
     "data": {
      "image/png": "[encoded data removed]",
      "text/plain": [
       "<Figure size 691.2x360 with 1 Axes>"
      ]
     },
     "metadata": {
      "needs_background": "light"
     },
     "output_type": "display_data"
    }
   ],
   "source": [
    "## bar plot showing spearman rho of AUPRC selection - spearman rho of AUROC selection\n",
    "y_var = 'te_signed_gap_AUROC'\n",
    "\n",
    "def apply_func(x):    \n",
    "    dataset, attr, seed = x.index[0]\n",
    "    x = x.reset_index().set_index(['select_metric', 'eval_metric'])\n",
    "    r1 = x.loc[('va_overall_AUPRC', y_var), 'r']\n",
    "    r2 = x.loc[('va_overall_AUROC', y_var), 'r']\n",
    "    return r1 - r2\n",
    "\n",
    "corr_df = corr_df.groupby(['dataset', 'attr', 'seed']).apply(apply_func).to_frame().groupby(['dataset', 'attr']).agg({0: ['mean', 'std']})\n",
    "corr_df.columns = [i[1] for i in corr_df.columns]\n",
    "corr_df['diff'] = corr_df['mean']\n",
    "corr_df['lower'] = corr_df['mean'] - 1.96 * corr_df['std']/np.sqrt(n_seeds)\n",
    "corr_df['upper'] = corr_df['mean'] + 1.96 * corr_df['std']/np.sqrt(n_seeds)\n",
    "\n",
    "f = make_heatmap_single(corr_df, prev_gap, True, {'width': 1})\n",
    "f.savefig('spearman_r_diff_AUROC_20_seeds.pdf', bbox_inches = 'tight')\n",
    "plt.show()"
   ]
  },
  {
   "cell_type": "code",
   "execution_count": 24,
   "id": "6b3b5651",
   "metadata": {},
   "outputs": [
    {
     "data": {
      "text/html": [
       "<div>\n",
       "<style scoped>\n",
       "    .dataframe tbody tr th:only-of-type {\n",
       "        vertical-align: middle;\n",
       "    }\n",
       "\n",
       "    .dataframe tbody tr th {\n",
       "        vertical-align: top;\n",
       "    }\n",
       "\n",
       "    .dataframe thead th {\n",
       "        text-align: right;\n",
       "    }\n",
       "</style>\n",
       "<table border=\"1\" class=\"dataframe\">\n",
       "  <thead>\n",
       "    <tr style=\"text-align: right;\">\n",
       "      <th></th>\n",
       "      <th></th>\n",
       "      <th>mean</th>\n",
       "      <th>std</th>\n",
       "      <th>diff</th>\n",
       "      <th>lower</th>\n",
       "      <th>upper</th>\n",
       "    </tr>\n",
       "    <tr>\n",
       "      <th>dataset</th>\n",
       "      <th>attr</th>\n",
       "      <th></th>\n",
       "      <th></th>\n",
       "      <th></th>\n",
       "      <th></th>\n",
       "      <th></th>\n",
       "    </tr>\n",
       "  </thead>\n",
       "  <tbody>\n",
       "    <tr>\n",
       "      <th>lsac</th>\n",
       "      <th>sex</th>\n",
       "      <td>-0.016874</td>\n",
       "      <td>0.018173</td>\n",
       "      <td>-0.016874</td>\n",
       "      <td>-0.024838</td>\n",
       "      <td>-0.008909</td>\n",
       "    </tr>\n",
       "    <tr>\n",
       "      <th>mimic</th>\n",
       "      <th>sex</th>\n",
       "      <td>-0.005467</td>\n",
       "      <td>0.118061</td>\n",
       "      <td>-0.005467</td>\n",
       "      <td>-0.057210</td>\n",
       "      <td>0.046275</td>\n",
       "    </tr>\n",
       "    <tr>\n",
       "      <th>compas</th>\n",
       "      <th>sex</th>\n",
       "      <td>-0.034751</td>\n",
       "      <td>0.077613</td>\n",
       "      <td>-0.034751</td>\n",
       "      <td>-0.068767</td>\n",
       "      <td>-0.000736</td>\n",
       "    </tr>\n",
       "    <tr>\n",
       "      <th>lsac</th>\n",
       "      <th>race1</th>\n",
       "      <td>0.018335</td>\n",
       "      <td>0.055195</td>\n",
       "      <td>0.018335</td>\n",
       "      <td>-0.005855</td>\n",
       "      <td>0.042525</td>\n",
       "    </tr>\n",
       "    <tr>\n",
       "      <th>compas</th>\n",
       "      <th>race</th>\n",
       "      <td>0.005988</td>\n",
       "      <td>0.066330</td>\n",
       "      <td>0.005988</td>\n",
       "      <td>-0.023082</td>\n",
       "      <td>0.035059</td>\n",
       "    </tr>\n",
       "    <tr>\n",
       "      <th>mimic</th>\n",
       "      <th>Race</th>\n",
       "      <td>0.026592</td>\n",
       "      <td>0.100510</td>\n",
       "      <td>0.026592</td>\n",
       "      <td>-0.017459</td>\n",
       "      <td>0.070642</td>\n",
       "    </tr>\n",
       "    <tr>\n",
       "      <th rowspan=\"2\" valign=\"top\">adult</th>\n",
       "      <th>Race</th>\n",
       "      <td>0.028174</td>\n",
       "      <td>0.080038</td>\n",
       "      <td>0.028174</td>\n",
       "      <td>-0.006904</td>\n",
       "      <td>0.063252</td>\n",
       "    </tr>\n",
       "    <tr>\n",
       "      <th>sex</th>\n",
       "      <td>0.070249</td>\n",
       "      <td>0.062137</td>\n",
       "      <td>0.070249</td>\n",
       "      <td>0.043016</td>\n",
       "      <td>0.097482</td>\n",
       "    </tr>\n",
       "  </tbody>\n",
       "</table>\n",
       "</div>"
      ],
      "text/plain": [
       "                   mean       std      diff     lower     upper\n",
       "dataset attr                                                   \n",
       "lsac    sex   -0.016874  0.018173 -0.016874 -0.024838 -0.008909\n",
       "mimic   sex   -0.005467  0.118061 -0.005467 -0.057210  0.046275\n",
       "compas  sex   -0.034751  0.077613 -0.034751 -0.068767 -0.000736\n",
       "lsac    race1  0.018335  0.055195  0.018335 -0.005855  0.042525\n",
       "compas  race   0.005988  0.066330  0.005988 -0.023082  0.035059\n",
       "mimic   Race   0.026592  0.100510  0.026592 -0.017459  0.070642\n",
       "adult   Race   0.028174  0.080038  0.028174 -0.006904  0.063252\n",
       "        sex    0.070249  0.062137  0.070249  0.043016  0.097482"
      ]
     },
     "execution_count": 24,
     "metadata": {},
     "output_type": "execute_result"
    }
   ],
   "source": [
    "corr_df.loc[prev_gap.sort_values(ascending = True).index]"
   ]
  },
  {
   "cell_type": "code",
   "execution_count": 25,
   "id": "b97cb701",
   "metadata": {},
   "outputs": [
    {
     "data": {
      "text/html": [
       "<div>\n",
       "<style scoped>\n",
       "    .dataframe tbody tr th:only-of-type {\n",
       "        vertical-align: middle;\n",
       "    }\n",
       "\n",
       "    .dataframe tbody tr th {\n",
       "        vertical-align: top;\n",
       "    }\n",
       "\n",
       "    .dataframe thead th {\n",
       "        text-align: right;\n",
       "    }\n",
       "</style>\n",
       "<table border=\"1\" class=\"dataframe\">\n",
       "  <thead>\n",
       "    <tr style=\"text-align: right;\">\n",
       "      <th></th>\n",
       "      <th></th>\n",
       "      <th>te_ratio_prevalence_50</th>\n",
       "    </tr>\n",
       "    <tr>\n",
       "      <th>dataset</th>\n",
       "      <th>attr</th>\n",
       "      <th></th>\n",
       "    </tr>\n",
       "  </thead>\n",
       "  <tbody>\n",
       "    <tr>\n",
       "      <th>lsac</th>\n",
       "      <th>sex</th>\n",
       "      <td>1.000023</td>\n",
       "    </tr>\n",
       "    <tr>\n",
       "      <th>mimic</th>\n",
       "      <th>sex</th>\n",
       "      <td>1.034483</td>\n",
       "    </tr>\n",
       "    <tr>\n",
       "      <th>compas</th>\n",
       "      <th>sex</th>\n",
       "      <td>1.264000</td>\n",
       "    </tr>\n",
       "    <tr>\n",
       "      <th>lsac</th>\n",
       "      <th>race1</th>\n",
       "      <td>1.270611</td>\n",
       "    </tr>\n",
       "    <tr>\n",
       "      <th>compas</th>\n",
       "      <th>race</th>\n",
       "      <td>1.422170</td>\n",
       "    </tr>\n",
       "    <tr>\n",
       "      <th>mimic</th>\n",
       "      <th>Race</th>\n",
       "      <td>1.434783</td>\n",
       "    </tr>\n",
       "    <tr>\n",
       "      <th rowspan=\"2\" valign=\"top\">adult</th>\n",
       "      <th>Race</th>\n",
       "      <td>2.182796</td>\n",
       "    </tr>\n",
       "    <tr>\n",
       "      <th>sex</th>\n",
       "      <td>2.721497</td>\n",
       "    </tr>\n",
       "  </tbody>\n",
       "</table>\n",
       "</div>"
      ],
      "text/plain": [
       "               te_ratio_prevalence_50\n",
       "dataset attr                         \n",
       "lsac    sex                  1.000023\n",
       "mimic   sex                  1.034483\n",
       "compas  sex                  1.264000\n",
       "lsac    race1                1.270611\n",
       "compas  race                 1.422170\n",
       "mimic   Race                 1.434783\n",
       "adult   Race                 2.182796\n",
       "        sex                  2.721497"
      ]
     },
     "execution_count": 25,
     "metadata": {},
     "output_type": "execute_result"
    }
   ],
   "source": [
    "prev_gap.sort_values(ascending = True).to_frame()"
   ]
  },
  {
   "cell_type": "code",
   "execution_count": 13,
   "id": "cae00c92",
   "metadata": {},
   "outputs": [
    {
     "data": {
      "image/png": "[encoded data removed]",
      "text/plain": [
       "<Figure size 432x288 with 1 Axes>"
      ]
     },
     "metadata": {
      "needs_background": "light"
     },
     "output_type": "display_data"
    }
   ],
   "source": [
    "f = plt.figure()\n",
    "plt.scatter(prev_gap.values, corr_df['mean'].values)\n",
    "plt.errorbar(prev_gap.values, corr_df['mean'].values, yerr = corr_df['std'], ecolor = 'k', ls = 'none', linewidth = 0.5)\n",
    "plt.xlabel(\"Prevalence Ratio\")\n",
    "plt.ylabel(\"Difference in Spearman $\\\\rho$\\n(AUROC Gap vs. AUPRC $-$ \\n AUROC Gap vs. AUROC)\")\n",
    "f.savefig('spearman_vs_prev_ratio_20_seeds.pdf', bbox_inches = 'tight')\n",
    "plt.show()"
   ]
  },
  {
   "cell_type": "code",
   "execution_count": 14,
   "id": "d28f7e6a",
   "metadata": {},
   "outputs": [
    {
     "data": {
      "text/plain": [
       "SignificanceResult(statistic=0.9047619047619048, pvalue=0.0020082755054294677)"
      ]
     },
     "execution_count": 14,
     "metadata": {},
     "output_type": "execute_result"
    }
   ],
   "source": [
    "scipy.stats.spearmanr(prev_gap.values, corr_df['mean'].values)"
   ]
  },
  {
   "cell_type": "code",
   "execution_count": null,
   "id": "dca3fdf6",
   "metadata": {},
   "outputs": [],
   "source": []
  }
 ],
 "metadata": {
  "kernelspec": {
   "display_name": "Python 3 (ipykernel)",
   "language": "python",
   "name": "python3"
  },
  "language_info": {
   "codemirror_mode": {
    "name": "ipython",
    "version": 3
   },
   "file_extension": ".py",
   "mimetype": "text/x-python",
   "name": "python",
   "nbconvert_exporter": "python",
   "pygments_lexer": "ipython3",
   "version": "3.9.7"
  }
 },
 "nbformat": 4,
 "nbformat_minor": 5
}
